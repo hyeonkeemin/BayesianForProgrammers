{
 "cells": [
  {
   "cell_type": "code",
   "execution_count": 1,
   "id": "3d5c3db0-fec6-4e62-9f6f-9b9298ecd929",
   "metadata": {},
   "outputs": [],
   "source": [
    "%config Completer.use_jedi = False"
   ]
  },
  {
   "cell_type": "code",
   "execution_count": 2,
   "id": "102db24b-b24b-4d36-bb63-439075a1e833",
   "metadata": {},
   "outputs": [
    {
     "name": "stderr",
     "output_type": "stream",
     "text": [
      "WARNING (theano.configdefaults): g++ not available, if using conda: `conda install m2w64-toolchain`\n",
      "WARNING (theano.configdefaults): g++ not detected ! Theano will be unable to execute optimized C-implementations (for both CPU and GPU) and will default to Python implementations. Performance will be severely degraded. To remove this warning, set Theano flags cxx to an empty string.\n",
      "WARNING (theano.tensor.blas): Using NumPy C-API based implementation for BLAS functions.\n"
     ]
    }
   ],
   "source": [
    "from IPython.core.pylabtools import figsize\n",
    "import numpy as np\n",
    "import matplotlib.pyplot as plt\n",
    "import matplotlib\n",
    "import scipy.stats as stats\n",
    "import pymc3 as pm\n",
    "\n",
    "matplotlib.rc('font', family='Malgun Gothic')\n",
    "figsize(14, 8)"
   ]
  },
  {
   "cell_type": "markdown",
   "id": "28471577-8615-4221-ab26-1783212b59f6",
   "metadata": {},
   "source": [
    "# 2.2 모델링 방법\n",
    "- 베이지안 모델링을 처음 시작할 때 데이터가 어떻게 만들어졌는지를 생각해보는 것이 좋음.\n",
    "- 데이터셋을 어떻게 다시 만들지 생각해보자\n",
    "    - `1.` '개수 데이터'를 나타내는 최고의 확률 변수는 무엇인가?를 생각함. 포아송분포는 개수 데이터를 잘 표현하므로 좋은 후보. 그래서 포아송분포에서 표본으로 얻은 문자 메세지 개수를 모델링함\n",
    "    - `2.` '문자 메세지가 포아송 분포를 따른다고 가정'하면 포아송분포를 위해 필요한 것은 무엇인가?를 생각함. 포아송분포는 모수 $lambda$를 가짐\n",
    "    - `3.` $lambda$를 모름. $lambda$가 또한 두 개 있다고 의심하는 중. 하나는 초기 행동에 대한 것. 나머지 하나는 사후 행동에 관한 것. 행동이 언제 바뀌는지는 모르지만, 바뀌는 시점을 변환점 $\\tau$라고 부름\n",
    "    - `4.` 두 $lambda$에 대한 바람직한 확률분포는 무엇인가? 지수분포는 양의 실수에 확률을 부여하므로 적합한 분포. 지수분포는 $\\alpha$라고 부르는 모수를 가짐(hyperparamter)\n",
    "    - `5.` 모수 $\\alpha$가 무엇인지 모름. 이 시점에서 어떤 분포를 $\\alpha$에 계속 부여하지만, 알지 못하는 수준에 이르면 일단 중단하는 것이 좋음.\n",
    "        - $lambda$에 대한 사전 믿음을 가지고 있는 반면, $\\alpha$에 대한 믿음은 부족함. 따라서 여기서 모델링을 중단하는 것이 최선\n",
    "        - 그럼 적합한 $\\alpha$값은 무엇일까? ($lambda$ 값들이 10~30 사이일 것이라고 생각할 때)만약 $\\alpha$값을 낮게 설정한다면(높은 값에는 더 큰 확률) prior belief를 충분히 반영하지 못하는 것. 마찬가지로 $\\alpha$값이 너무 높은것 또한 prior belief를 반영하지 못함.\n",
    "        - $\\alpha$에 $lambda$에 대한 우리의 믿음을 반영하려면 주어진 $\\alpha$ 내에서 $lambda$의 평균이 우리가 관측한 평균과 같도록 설정하는 것이 좋음.\n",
    "    - `6.` $\\tau$가 언제 일어났는지에 대한 전문적인 견해가 없으므로, $\\tau$가 이산균등분포에서 나왔다고 가정할 것"
   ]
  },
  {
   "cell_type": "markdown",
   "id": "7ba23e4f-ea44-428a-82aa-483a91c3cd29",
   "metadata": {},
   "source": [
    "- 아래 그림에서 이를 시각화 한 모습을 볼 수 있음. 화살표는 부모-자식 관계를 의미함\n",
    "\n",
    "\n",
    "![](https://camo.githubusercontent.com/a6d43dac555c3053b2c256d0a6b8ee4befcd7ab25c601df895878140a4e5fb06/687474703a2f2f692e696d6775722e636f6d2f374a33306f43472e706e67)"
   ]
  },
  {
   "cell_type": "markdown",
   "id": "34614ff3-2627-43fd-95ef-97d25f4cd733",
   "metadata": {},
   "source": [
    "### 2.2.1 재해석\n",
    "- 스토리를 재해석하여 새로운 데이터셋을 만들 수 있음. 예를 들어, 앞의 6단계를 반대로 뒤집으면 데이터셋의 실현 가능성을 시뮬레이션 가능함.\n",
    "\n",
    "1. DiscreteUniform(0, 80)에서 표본을 추출하여 사용자의 행동 변화 시점을 명시함"
   ]
  },
  {
   "cell_type": "code",
   "execution_count": 3,
   "id": "f861a4a3-2f20-4fb6-9b84-ab18c60e95f4",
   "metadata": {},
   "outputs": [
    {
     "data": {
      "text/plain": [
       "39"
      ]
     },
     "execution_count": 3,
     "metadata": {},
     "output_type": "execute_result"
    }
   ],
   "source": [
    "tau = np.random.randint(0, 80)\n",
    "tau"
   ]
  },
  {
   "cell_type": "markdown",
   "id": "3bc5d3e8-2987-493b-b0ba-914fae5a988e",
   "metadata": {},
   "source": [
    "2. $Exp(\\alpha)$ 분포에서 $\\lambda_1$과 $\\lambda_2$를 뽑는다"
   ]
  },
  {
   "cell_type": "code",
   "execution_count": 4,
   "id": "a1822396-9de6-4bdd-a8f6-ac7c3c61e201",
   "metadata": {},
   "outputs": [],
   "source": [
    "alpha = 1/20\n",
    "lambda_1, lambda_2 = np.random.exponential(scale=1/alpha, size=2)"
   ]
  },
  {
   "cell_type": "code",
   "execution_count": 5,
   "id": "01f91462-305e-4ec5-8cac-d551b40ca389",
   "metadata": {},
   "outputs": [
    {
     "data": {
      "text/plain": [
       "(25.606019843248312, 1.4891596622375043)"
      ]
     },
     "execution_count": 5,
     "metadata": {},
     "output_type": "execute_result"
    }
   ],
   "source": [
    "lambda_1, lambda_2"
   ]
  },
  {
   "cell_type": "markdown",
   "id": "247cb7a1-6deb-44b3-a79c-b40a23d0f3db",
   "metadata": {},
   "source": [
    "3. $\\tau$ 이전 며칠 동안 $\\lambda=\\lambda_1$에서 샘플링, $\\tau$ 이후 $\\lambda=\\lambda_2$에서 샘플링"
   ]
  },
  {
   "cell_type": "code",
   "execution_count": 6,
   "id": "8f51a2b2-a3c3-46bf-af18-a4445ffd87f1",
   "metadata": {},
   "outputs": [],
   "source": [
    "data = np.r_[stats.poisson.rvs(mu=lambda_1, size=tau), stats.poisson.rvs(mu=lambda_2, size = 80 - tau)]"
   ]
  },
  {
   "cell_type": "code",
   "execution_count": 7,
   "id": "9fc9478a-c0cd-4f9b-9748-decb11323a7d",
   "metadata": {
    "tags": []
   },
   "outputs": [
    {
     "data": {
      "text/plain": [
       "array([27, 21, 25, 25, 29, 22, 24, 30, 23, 21, 27, 29, 19, 35, 21, 26, 34,\n",
       "       23, 27, 24, 26, 31, 26, 31, 27, 29, 25, 24, 17, 21, 29, 18, 21, 23,\n",
       "       26, 23, 20, 31, 20,  2,  2,  2,  1,  2,  3,  4,  2,  0,  0,  4,  2,\n",
       "        4,  0,  0,  1,  2,  1,  3,  2,  1,  1,  1,  0,  1,  2,  4,  2,  2,\n",
       "        3,  1,  1,  0,  0,  1,  2,  2,  2,  3,  4,  2])"
      ]
     },
     "execution_count": 7,
     "metadata": {},
     "output_type": "execute_result"
    }
   ],
   "source": [
    "data"
   ]
  },
  {
   "cell_type": "markdown",
   "id": "6c2faa78-6cf3-4f91-bbdc-2a779c154a42",
   "metadata": {},
   "source": [
    "4. 그리기"
   ]
  },
  {
   "cell_type": "code",
   "execution_count": 8,
   "id": "3593019a-4d30-4e7f-85d9-e73acdebefa0",
   "metadata": {},
   "outputs": [
    {
     "data": {
      "image/png": "[encoded data removed]",
      "text/plain": [
       "<Figure size 1008x576 with 1 Axes>"
      ]
     },
     "metadata": {
      "needs_background": "light"
     },
     "output_type": "display_data"
    }
   ],
   "source": [
    "plt.bar(np.arange(80), data, color=\"#348ABD\")\n",
    "plt.bar(tau-1, data[tau - 1], color=\"r\", label=\"사용자의 행동 변화\")\n",
    "plt.xlabel(\"Time (days)\")\n",
    "plt.ylabel(\"수신한 문자 메세지\")\n",
    "plt.title(\"모델 시뮬레이션을 위한 인위적인 데이터셋\")\n",
    "plt.xlim(0, 80)\n",
    "plt.legend();"
   ]
  },
  {
   "cell_type": "code",
   "execution_count": 9,
   "id": "6e3b9f0b-1554-4562-b13f-6fad6b1bd737",
   "metadata": {},
   "outputs": [
    {
     "data": {
      "image/png": "[encoded data removed]",
      "text/plain": [
       "<Figure size 1008x576 with 4 Axes>"
      ]
     },
     "metadata": {
      "needs_background": "light"
     },
     "output_type": "display_data"
    }
   ],
   "source": [
    "def plot_artificial_sms_dataset():\n",
    "    tau = stats.randint.rvs(0, 80)\n",
    "    alpha = 1./20.\n",
    "    lambda_1, lambda_2 = stats.expon.rvs(scale=1/alpha, size=2)\n",
    "    data = np.r_[stats.poisson.rvs(mu=lambda_1, size=tau), stats.poisson.rvs(mu=lambda_2, size=80 - tau)]\n",
    "    plt.bar(np.arange(80), data, color=\"#348ABD\")\n",
    "    plt.bar(tau - 1, data[tau-1], color=\"r\", label=\"user behaviour changed\")\n",
    "    plt.xlim(0, 80);\n",
    "\n",
    "# figsize(12.5, 5)\n",
    "plt.title(\"More example of artificial datasets\")\n",
    "for i in range(4):\n",
    "    plt.subplot(4, 1, i+1)\n",
    "    plot_artificial_sms_dataset()"
   ]
  },
  {
   "cell_type": "markdown",
   "id": "804d2bae-b40f-465e-bcf0-9509540f5d0a",
   "metadata": {},
   "source": [
    "### 2.2.2. 베이지안 A/B 테스트\n",
    "\n",
    "- A/B 테스트의 핵심은 그룹 간의 차이점이 단 하나뿐이라는 점. 따라서 측정값의 변화가 바로 차이로 연결될 수 있음\n",
    "- 사후실험분석은 보통 평균차이검정이나 비율차이검정과 같은 가설검정을 사용하여 진행하나, 베이지안적인 접근으로도 자연스럽게 해결 가능\n",
    "\n",
    "\n",
    "### 2.2.3. 간단한 예제(웹 개발)\n",
    "- A 사이트 분석에 초점을 맞춤. A 사이트에 노출된 사용자가 궁극적으로 전환할 어떤 확률 $P_A$가 있다고 가정. 이것이 A 사이트의 진정한 효율성. 현재는 알지 못함\n",
    "- A 사이트가 N명에게 노출되었고, n명이 전환했다고 가정. 성급하게 $P_A=\\frac n N$이라는 결론을 내릴 수도 있음.\n",
    "- 그러나 관측된 빈도 $\\frac n N$이 반드시 $P_A$와 같은 것은 아님. `관측빈도`와 `실제빈도`간에는 차이가 있음.\n",
    "- 실제 빈도는 사건이 일어날 확률로 해석할 수 있으며, 아래와 같은 사건의 실제 빈도를 알아야 함\n",
    "    - 구매를 하는 사용자의 비율\n",
    "    - 모집단의 어떤 특정한 비율\n",
    "    - 고양이를 키우는 인터넷 사용자 비율\n",
    "    - 내일 비가 내릴 확률\n",
    "    - ....\n",
    "- 노이즈와 복잡성때문에 실제 빈도를 알지 못하고 관측된 데이터로 실제 빈도를 추론해야 함.\n",
    "- 베이지안 통계를 사용하여 적절한 사전확률 및 관측된 데이터를 사용하여 실제 빈도의 추정 값을 추론\n",
    "- 전환율 예제의 경우, 알고 있는 N(총 방문자 수)과 n(전환한 사람 수)을 사용하여 진정한 전환 빈도 $P_A$가 얼마인지 추정하고자 하는 것\n",
    "\n",
    "\n",
    "- 베이지안 모델을 설정하려면 미지의 양수값을 사전확률분포로 할당해야 함.\n",
    "- $P_A$라고 생각한 사전확률 분포는 무엇인가? 이번 예제에서는 $P_A$에 대한 확신히 강하지 않음. 따라서 지금은 $P_A$를 [0,1]에 대한 균등분포로 가정"
   ]
  },
  {
   "cell_type": "code",
   "execution_count": 10,
   "id": "23c566f4-6f4c-4729-9ed4-165340fd4939",
   "metadata": {},
   "outputs": [],
   "source": [
    "# 모수는 유니폼 범위 내\n",
    "with pm.Model() as model:\n",
    "    p = pm.Uniform('p', lower=0, upper=1)"
   ]
  },
  {
   "cell_type": "markdown",
   "id": "20a22303-df35-4c70-b91b-661db44de349",
   "metadata": {},
   "source": [
    "- 이 예제에서 $P_A=0.05$, A 사이트에 노출된 사용자 수 N=1500이라고 가정. 우리는 사용자가 구매를 했는지 혹은 하지 않았는지 여부를 시뮬레이션 할 것.\n",
    "- N번 시행하여 이를 시뮬레이션 하기 위해 베르누이분포를 사용(binary하게 적용)하여 가상의 데이터를 시뮬레이션함"
   ]
  },
  {
   "cell_type": "code",
   "execution_count": 11,
   "id": "314d8a15-60e4-491a-9d13-38959e374eb8",
   "metadata": {},
   "outputs": [
    {
     "data": {
      "text/plain": [
       "80"
      ]
     },
     "execution_count": 11,
     "metadata": {},
     "output_type": "execute_result"
    }
   ],
   "source": [
    "# 상수 설정\n",
    "p_true = 0.05\n",
    "N = 1500\n",
    "\n",
    "# Ber(0.05)로 부터 N개의 베르누이 확률변수를 표본추출함\n",
    "# 데이터 생성 단계\n",
    "occurrences = stats.bernoulli.rvs(p_true, size=N)\n",
    "np.sum(occurrences)"
   ]
  },
  {
   "cell_type": "markdown",
   "id": "4df9507a-4dae-4d3f-88e4-132226701113",
   "metadata": {},
   "source": [
    "- PyMC의 observed 변수에 합쳐 추론 알고리즘을 실행"
   ]
  },
  {
   "cell_type": "code",
   "execution_count": null,
   "id": "fef28aae-7985-40c6-8bf6-e2f3937c776c",
   "metadata": {},
   "outputs": [
    {
     "name": "stderr",
     "output_type": "stream",
     "text": [
      "<ipython-input-12-b123c81449da>:7: FutureWarning: In v4.0, pm.sample will return an `arviz.InferenceData` object instead of a `MultiTrace` by default. You can pass return_inferencedata=True or return_inferencedata=False to be safe and silence this warning.\n",
      "  trace = pm.sample(18000, step=step)\n",
      "Multiprocess sampling (4 chains in 4 jobs)\n",
      "Metropolis: [p]\n"
     ]
    },
    {
     "data": {
      "text/html": [
       "\n",
       "    <div>\n",
       "        <style>\n",
       "            /* Turns off some styling */\n",
       "            progress {\n",
       "                /* gets rid of default border in Firefox and Opera. */\n",
       "                border: none;\n",
       "                /* Needs to be in here for Safari polyfill so background images work as expected. */\n",
       "                background-size: auto;\n",
       "            }\n",
       "            .progress-bar-interrupted, .progress-bar-interrupted::-webkit-progress-bar {\n",
       "                background: #F44336;\n",
       "            }\n",
       "        </style>\n",
       "      <progress value='76000' class='' max='76000' style='width:300px; height:20px; vertical-align: middle;'></progress>\n",
       "      100.00% [76000/76000 03:26<00:00 Sampling 4 chains, 0 divergences]\n",
       "    </div>\n",
       "    "
      ],
      "text/plain": [
       "<IPython.core.display.HTML object>"
      ]
     },
     "metadata": {},
     "output_type": "display_data"
    },
    {
     "name": "stderr",
     "output_type": "stream",
     "text": [
      "Sampling 4 chains for 1_000 tune and 18_000 draw iterations (4_000 + 72_000 draws total) took 217 seconds.\n"
     ]
    }
   ],
   "source": [
    "# 베르누이 관측치를 포함함\n",
    "with model:\n",
    "    obs = pm.Bernoulli('obs', p, observed=occurrences)\n",
    "    \n",
    "    # 3장에서 설명할 것\n",
    "    step = pm.Metropolis()\n",
    "    trace = pm.sample(18000, step=step)\n",
    "    burned_trace = trace[1000:]"
   ]
  },
  {
   "cell_type": "markdown",
   "id": "d1f03693-66fa-4857-bb05-e223c87a83a5",
   "metadata": {},
   "source": [
    "- 미지수 $P_A$에 대한 사후확률 분포를 나타냄"
   ]
  },
  {
   "cell_type": "code",
   "execution_count": null,
   "id": "44cc2abe-3b7a-468f-94ff-d6dff5836dfb",
   "metadata": {},
   "outputs": [],
   "source": [
    "figsize(12.5, 4)\n",
    "plt.title(\"$p_A$의 사후확률분포, A 사이트의 효율성\")\n",
    "plt.vlines(p_true, 0, 90, linestyle=\"--\", label=\"진짜 $p_A$ (unknown)\")\n",
    "plt.hist(burned_trace[\"p\"], bins=25, histtype=\"stepfilled\", density=True)\n",
    "plt.legend()"
   ]
  },
  {
   "cell_type": "markdown",
   "id": "26136d10-06c9-45cb-8e30-f0df97316a07",
   "metadata": {},
   "source": [
    "- 우리의 사후확률분포는 데이터가 제시하는 진짜 $P_A$값 주변에 가중치를 둠. 분포의 키가 클수록 가능성이 더 커짐. 관측치 N의 수를 변경하고 사후확률분포가 어떻게 변하는지 관측"
   ]
  },
  {
   "cell_type": "markdown",
   "id": "08f41842-39ed-443f-80ef-737cb6bf6089",
   "metadata": {},
   "source": [
    "### 2.2.4. A와 B를 묶어보기\n",
    "- B 사이트의 데이터로 비슷한 분석을 수행하면 $P_B$의 사후확률분포를 알 수 있음. 우리가 정말로 궁금한건 $P_A$와 $P_B$의 차이.\n",
    "- 그리고 delta = 0.01, $N_B$ = 750($N_A$의 절반), 그리고 A 사이트에서 했던 것 처럼 B 사이트도 시뮬레이션 진행"
   ]
  },
  {
   "cell_type": "code",
   "execution_count": null,
   "id": "531f38e8-3ea9-465d-a7fc-d83d73202c68",
   "metadata": {},
   "outputs": [],
   "source": [
    "figsize(12, 4)\n",
    "\n",
    "# 다음 둘은 미지수\n",
    "true_p_A = 0.05\n",
    "true_p_B = 0.04\n",
    "\n",
    "# 표본의 크기는 다르지만 베이지안 분석에서는 문제가 되지 않음\n",
    "N_A = 1500\n",
    "N_B = 750\n",
    "\n",
    "# 관측치 생성\n",
    "observation_A = stats.bernoulli.rvs(true_p_A, size=N_A)\n",
    "observation_B = stats.bernoulli.rvs(true_P_B, size=N_B)"
   ]
  },
  {
   "cell_type": "code",
   "execution_count": null,
   "id": "49d12dbe-3909-4d44-b1b1-4a749f845a3d",
   "metadata": {},
   "outputs": [],
   "source": [
    "observation_A.mean()"
   ]
  },
  {
   "cell_type": "code",
   "execution_count": null,
   "id": "e6eff5e8-fb38-4e56-a653-a8fc8985b617",
   "metadata": {},
   "outputs": [],
   "source": [
    "observation_B.mean()"
   ]
  },
  {
   "cell_type": "code",
   "execution_count": null,
   "id": "ecf3fcf1-6074-4ce5-9105-6ee9b3bb9509",
   "metadata": {},
   "outputs": [],
   "source": [
    "# pymc3 모델 설정. p_A와 p_B는 uniform 사전확률로 가정\n",
    "with pm.Model() as model:\n",
    "    p_A = pm.Uniform('P_A', 0, 1)\n",
    "    p_B = pm.Uniform('P_B', 0, 1)\n",
    "    \n",
    "    # deterministic delta function 정의.\n",
    "    delta = pm.Deterministic('delta', p_A - p_B)\n",
    "    \n",
    "    # 관측치 설정. 이 경우 관측 데이터셋이 두개 있음\n",
    "    obs_A = pm.Bernoulli('obs_A', p_A, observed=observation_A)\n",
    "    obs_B = pm.Bernoulli('obs_B', p_B, observed=observation_B)\n",
    "    \n",
    "    # 3장에서 설명\n",
    "    step = pm.Metropolis()\n",
    "    trace = pm.sample(20000, step=step)\n",
    "    burned_trace = trace[1000:]"
   ]
  },
  {
   "cell_type": "code",
   "execution_count": null,
   "id": "5d507709-d289-45c0-8161-5a44a56104e5",
   "metadata": {},
   "outputs": [],
   "source": [
    "p_A_samples = burned_trace['P_A']\n",
    "p_B_samples = burned_trace['P_B']\n",
    "delta_samples = burned_trace['delta']"
   ]
  },
  {
   "cell_type": "code",
   "execution_count": null,
   "id": "6b5a08f9-e280-4be3-a367-87686a744e40",
   "metadata": {},
   "outputs": [],
   "source": [
    "figsize(12.5, 10)\n",
    "\n",
    "#histogram of posteriors\n",
    "ax = plt.subplot(311)\n",
    "\n",
    "plt.xlim(0, .1)\n",
    "plt.hist(p_A_samples, histtype='stepfilled', bins=25, alpha=0.85, label=\"$p_A$의 사후확률분포\", color=\"#A60628\", density=True)\n",
    "plt.vlines(true_p_A, 0, 80, linestyle=\"--\", label=\"진짜 $p_A$ (미지수)\")\n",
    "plt.legend(loc=\"upper right\")\n",
    "plt.title(\"미지의 $p_A$, $p_B$, and delta의 사후확률 분포\")\n",
    "\n",
    "ax = plt.subplot(312)\n",
    "\n",
    "plt.xlim(0, .1)\n",
    "plt.hist(p_B_samples, histtype='stepfilled', bins=25, alpha=0.85, label=\"$p_B$의 사후확률분포\", color=\"#467821\", density=True)\n",
    "plt.vlines(true_p_B, 0, 80, linestyle=\"--\", label=\"진짜 $p_B$ (미지수)\")\n",
    "plt.legend(loc=\"upper right\")\n",
    "\n",
    "ax = plt.subplot(313)\n",
    "plt.hist(delta_samples, histtype='stepfilled', bins=30, alpha=0.85, label=\"delta의 사후확률분포\", color=\"#7A68A6\", density=True)\n",
    "plt.vlines(true_p_A - true_p_B, 0, 60, linestyle=\"--\", label=\"진짜 delta (미지수)\")\n",
    "plt.vlines(0, 0, 60, color=\"black\", alpha=0.2)\n",
    "plt.legend(loc=\"upper right\");"
   ]
  },
  {
   "cell_type": "code",
   "execution_count": null,
   "id": "9778a8eb-443f-4fbc-b51d-185747ae713d",
   "metadata": {},
   "outputs": [],
   "source": []
  }
 ],
 "metadata": {
  "kernelspec": {
   "display_name": "Python 3",
   "language": "python",
   "name": "python3"
  },
  "language_info": {
   "codemirror_mode": {
    "name": "ipython",
    "version": 3
   },
   "file_extension": ".py",
   "mimetype": "text/x-python",
   "name": "python",
   "nbconvert_exporter": "python",
   "pygments_lexer": "ipython3",
   "version": "3.8.8"
  }
 },
 "nbformat": 4,
 "nbformat_minor": 5
}
