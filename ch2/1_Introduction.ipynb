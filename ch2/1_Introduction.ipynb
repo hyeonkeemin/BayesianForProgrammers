{
 "cells": [
  {
   "cell_type": "code",
   "execution_count": 1,
   "id": "9088f2d8-ccf7-472a-9802-9de08e439b56",
   "metadata": {},
   "outputs": [],
   "source": [
    "%config Completer.use_jedi = False"
   ]
  },
  {
   "cell_type": "markdown",
   "id": "1bf2e5ce-e0bd-40f3-a04d-9bd7d98835b4",
   "metadata": {},
   "source": [
    "# 2.1 서론\n",
    "### 2.1.1. Model Context\n",
    "\n",
    "- pymc3 에서는, `Model` 객체 내에서 원하는 모든 변수를 처리함. "
   ]
  },
  {
   "cell_type": "code",
   "execution_count": 2,
   "id": "1e8314ee-ca99-42f4-9f39-0b9c91a31bef",
   "metadata": {},
   "outputs": [
    {
     "name": "stderr",
     "output_type": "stream",
     "text": [
      "WARNING (theano.configdefaults): g++ not available, if using conda: `conda install m2w64-toolchain`\n",
      "WARNING (theano.configdefaults): g++ not detected ! Theano will be unable to execute optimized C-implementations (for both CPU and GPU) and will default to Python implementations. Performance will be severely degraded. To remove this warning, set Theano flags cxx to an empty string.\n",
      "WARNING (theano.tensor.blas): Using NumPy C-API based implementation for BLAS functions.\n"
     ]
    }
   ],
   "source": [
    "import pymc3 as pm"
   ]
  },
  {
   "cell_type": "code",
   "execution_count": 3,
   "id": "a077762c-4eee-4f21-a85a-49481f17adb9",
   "metadata": {},
   "outputs": [],
   "source": [
    "with pm.Model() as model:\n",
    "    parameter = pm.Exponential('poisson_param', 1.0)\n",
    "    data_generator = pm.Poisson('data_generator', parameter)"
   ]
  },
  {
   "cell_type": "markdown",
   "id": "4b4bad52-d827-4827-97a4-5265ae1b39ec",
   "metadata": {},
   "source": [
    "- `with` 문을 통해 동일한 model 오브젝트 내에서 작업 가능"
   ]
  },
  {
   "cell_type": "code",
   "execution_count": 4,
   "id": "e548af10-33a3-4950-bfcf-1db5b5635bb4",
   "metadata": {},
   "outputs": [],
   "source": [
    "with model:\n",
    "    data_plus_one = data_generator + 1"
   ]
  },
  {
   "cell_type": "code",
   "execution_count": 5,
   "id": "0d65091d-3894-4590-8821-52338b063299",
   "metadata": {},
   "outputs": [
    {
     "data": {
      "text/plain": [
       "array(0.69314718)"
      ]
     },
     "execution_count": 5,
     "metadata": {},
     "output_type": "execute_result"
    }
   ],
   "source": [
    "parameter.tag.test_value"
   ]
  },
  {
   "cell_type": "markdown",
   "id": "31ff3bc0-9250-48f6-b76d-8ec619ca9cd6",
   "metadata": {},
   "source": [
    "- 이전에 사용한 것과 동일한 이름으로 다른 모델 객체를 생성하려면 이전 코드만 다시 실행하면 됨"
   ]
  },
  {
   "cell_type": "code",
   "execution_count": 6,
   "id": "fbc9d8f8-2ff2-4434-bcb1-cdd2d7e4ed2c",
   "metadata": {},
   "outputs": [],
   "source": [
    "with pm.Model() as model:\n",
    "    theta = pm.Exponential(\"theta\", 2.0)\n",
    "    data_generator = pm.Poisson(\"data_generator\", theta)"
   ]
  },
  {
   "cell_type": "markdown",
   "id": "c2447aa9-b337-466d-83bb-9fbef4e78a42",
   "metadata": {},
   "source": [
    "- 모델 이름만 자유롭게 지정하면 다른 모델 생성 가능"
   ]
  },
  {
   "cell_type": "code",
   "execution_count": 7,
   "id": "3aa17413-ef8b-40a8-918a-70bfb3c7f458",
   "metadata": {},
   "outputs": [],
   "source": [
    "with pm.Model() as ab_testing:\n",
    "    p_A = pm.Uniform(\"P(A)\", 0, 1)\n",
    "    p_B = pm.Uniform(\"P(B)\", 0, 1)"
   ]
  },
  {
   "cell_type": "markdown",
   "id": "8272c4b6-91be-469e-9a59-8c3b510f8901",
   "metadata": {},
   "source": [
    "### 2.1.2. PyMC3 Variables\n",
    "- 모든 pymc3 변수에는 초기값(테스트용)이 있음"
   ]
  },
  {
   "cell_type": "code",
   "execution_count": 8,
   "id": "9b0e1a4e-da8d-4600-8b04-20d3f182178d",
   "metadata": {},
   "outputs": [
    {
     "name": "stdout",
     "output_type": "stream",
     "text": [
      "parameter.tag.test_value = 0.6931471824645996\n",
      "data_generator.tag.test_value = 0\n",
      "data_plus_one.tag.test_value = 1\n"
     ]
    }
   ],
   "source": [
    "print(\"parameter.tag.test_value =\", parameter.tag.test_value)\n",
    "print(\"data_generator.tag.test_value =\", data_generator.tag.test_value)\n",
    "print(\"data_plus_one.tag.test_value =\", data_plus_one.tag.test_value)"
   ]
  },
  {
   "cell_type": "markdown",
   "id": "7b35f434-fdb1-4a5b-b3ad-8c683ed0d65d",
   "metadata": {},
   "source": [
    "- `test_value`는 모델 시작지점에서만 사용됨(다른 시작이 지정되지 않는 경우). 값도 변경 가능"
   ]
  },
  {
   "cell_type": "code",
   "execution_count": 9,
   "id": "5560f716-861f-4db8-b2b1-79234d162d3c",
   "metadata": {},
   "outputs": [
    {
     "data": {
      "text/plain": [
       "array(0.5)"
      ]
     },
     "execution_count": 9,
     "metadata": {},
     "output_type": "execute_result"
    }
   ],
   "source": [
    "with pm.Model() as model:\n",
    "    parameter = pm.Exponential('poisson_param', 1.0, testval=0.5)\n",
    "    \n",
    "parameter.tag.test_value"
   ]
  },
  {
   "cell_type": "markdown",
   "id": "cc8af35a-e1ab-4da4-9516-91bb94045571",
   "metadata": {},
   "source": [
    "- pymc3는 stochastic과 deterministic의 두 유형의 프로그래밍 변수와 관련있음\n",
    "\n",
    "\n",
    "### 2.1.3. 확률 변수 초기화\n",
    "- stochastic, 또는 random 변수를 초기화 하려면 `name`인수와 클래스별 추가 parameter가 필요함.\n",
    "    - ex) some_variable = pm.DiscreteUniform('discrete_uni_var', 0, 4) # (0, 4)는 상한 및 하한 바운더리를 나타냄\n",
    "- `name` 변수는 추후 분석에서 사후확률분포를 검색할 때 사용되어 알기쉽게 설정하는게 좋음\n",
    "\n",
    "\n",
    "- `shape` 변수는 여러 개의 확률변수를 생성할 때 좋음\n",
    "    - beta_1 = pm.Uniform('beta_1', 0, 1)\n",
    "    - beta_2 = pm.Uniform('beta_2', 0, 1)\n",
    "    - 이를 아래 처럼 활용 가능\n",
    "    - betas = pm.Uniform('betas', 0, 1, shape=N)\n",
    "\n",
    "\n",
    "### 2.1.4. Deterministic 변수\n",
    "- 간단하게 생성가능. 덧셈, 지수 같은 기본 연산은 암묵적으로 deterministic한 변수를 생성함."
   ]
  },
  {
   "cell_type": "code",
   "execution_count": 10,
   "id": "ac4e9efe-9a07-4996-977e-e09a5fa49b53",
   "metadata": {},
   "outputs": [],
   "source": [
    "with pm.Model() as model:\n",
    "    lambda_1 = pm.Exponential('lambda_1', 1.0)\n",
    "    lambda_2 = pm.Exponential('lambda_2', 1.0)\n",
    "    tau = pm.DiscreteUniform('tau', lower=0, upper=10)\n",
    "    \n",
    "new_deterministic_variable = lambda_1 + lambda_2"
   ]
  },
  {
   "cell_type": "markdown",
   "id": "09163d1f-7920-4ef5-ae9a-29fee60d0f3d",
   "metadata": {},
   "source": [
    "- 그러나 샘플링으로 deterministic 변수를 실제로 추적하려면 생성자와 함께 명명된 결정적 변수로 명시적으로 정의하여야 함.\n",
    "- 결정적 변수의 사용은 이전 장의 텍스트 데이터에서 볼 수 있었음.\n",
    "$$\\lambda=\\begin{cases}\\lambda_1 & if~~t<\\tau\\\\\\lambda_2 & if~~t \\ge \\tau\\end{cases}$$"
   ]
  },
  {
   "cell_type": "code",
   "execution_count": 11,
   "id": "dc4e2b3a-828a-44dd-a45c-e620aa2d8a44",
   "metadata": {},
   "outputs": [],
   "source": [
    "import numpy as np\n",
    "\n",
    "n_data_points = 5 # 챕터 1에는 ~70개 정도 있었음\n",
    "idx = np.arange(n_data_points)\n",
    "\n",
    "with model:\n",
    "    lambda_ = pm.math.switch(tau >= idx, lambda_1, lambda_2)"
   ]
  },
  {
   "cell_type": "markdown",
   "id": "6e1a8dcd-0b78-473c-8a43-94a63dc20b2a",
   "metadata": {},
   "source": [
    "- lambda_는 tau, labmda_1, lambda_2 값이 알려진 경우 명백히 값을 알 수 있으므로 결정론적 변수임.\n",
    "- 결정론적 변수 내에서 전달된 확률적 변수는 스칼라 또는 numpy 배열처럼 작동함. 차원만 맞으면 모든 작업 가능함.\n",
    "\n",
    "\n",
    "- 그러나, 계산은 Theano의 tensor 작동 방식으로 계산됨.\n",
    "\n",
    "\n",
    "### 2.1.5. Theano\n",
    "- pymc3의 고비용 작업들은 대부분 theano에서 실행됨. theano의 표기법은 넘파이와 매우 비슷하며, numpy의 많은 계산 요소를 지원함.\n",
    "- numpy는 계산을 직접 실행하지만 theano는 연산 수행하는 것을 추적하는 '계산 그래프'를 작성함.\n",
    "- theano 안에서 `eval()`을 수행할 때만 계산 비용이 소모됨.\n",
    "- 컴퓨팅 그래프가 구축되면 모든 종류의 optimize를 수행하고, gradient 계산 및 C로 컴파일 및 GPU에서 수행되도록 컴파일 가능함.\n",
    "- 즉, theano를 적절히 사용하면 더 pymc3를 잘 쓸 수 있는 것"
   ]
  },
  {
   "cell_type": "code",
   "execution_count": 12,
   "id": "5908795d-14d8-45e1-8bd3-69c838f93956",
   "metadata": {},
   "outputs": [],
   "source": [
    "import theano.tensor as tt\n",
    "\n",
    "with pm.Model() as thano_test:\n",
    "    p1 = pm.Uniform('p', 0, 1)\n",
    "    p2 = 1-p1\n",
    "    p = tt.stack([p1, p2])\n",
    "    \n",
    "    assignment = pm.Categorical('assignment', p)"
   ]
  },
  {
   "cell_type": "markdown",
   "id": "16ad3dca-243c-429b-be0f-2fc6bd52a54e",
   "metadata": {},
   "source": [
    "### 2.1.6. 모델에 관측 포함하기\n",
    "- 아래 그림에서 $\\lambda_1$에 대한 사전확률분포는 어떻게 생겼는가? 라는 질문을 하고 답 가능."
   ]
  },
  {
   "cell_type": "code",
   "execution_count": 13,
   "id": "af5a223c-dca8-4dd1-adb1-3b2b19000a61",
   "metadata": {},
   "outputs": [
    {
     "data": {
      "image/png": "[encoded data removed]",
      "text/plain": [
       "<Figure size 900x288 with 1 Axes>"
      ]
     },
     "metadata": {
      "needs_background": "light"
     },
     "output_type": "display_data"
    }
   ],
   "source": [
    "%matplotlib inline\n",
    "from IPython.core.pylabtools import figsize\n",
    "import matplotlib.pyplot as plt\n",
    "import scipy.stats as stats\n",
    "import matplotlib\n",
    "\n",
    "figsize(12.5, 4)\n",
    "matplotlib.rc('font', family='Malgun Gothic')\n",
    "\n",
    "samples = lambda_1.random(size=20000)\n",
    "plt.hist(samples, bins=70, density=True, histtype=\"stepfilled\")\n",
    "plt.title(\"$\\lambda_1$에 대한 사전분포\")\n",
    "plt.xlim(0, 8);"
   ]
  },
  {
   "cell_type": "markdown",
   "id": "a4ffb32c-75d4-4499-a081-c8c09fe11664",
   "metadata": {},
   "source": [
    "- 모델의 관측값을 포함하는 작업을 1장의 개념 틀에 맞추기 위해 P(A)를 구체적으로 지정함. 다음 목표는 데이터/증거/관측치 X를 모델에 포함시키는 것.\n",
    "\n",
    "\n",
    "- pymc3의 스토캐스틱 변수는 `observed` 키워드 인수가 있음. `observed` 역할은 매우 간단함(변수의 현재 값을 주어진 numpy array나 pandas dataframe으로 변환함)"
   ]
  },
  {
   "cell_type": "code",
   "execution_count": 14,
   "id": "269684dc-89d4-4717-90ab-4e0e8ca4d0ee",
   "metadata": {},
   "outputs": [
    {
     "data": {
      "text/plain": [
       "array([10,  5], dtype=int64)"
      ]
     },
     "execution_count": 14,
     "metadata": {},
     "output_type": "execute_result"
    }
   ],
   "source": [
    "data = np.array([10, 5])\n",
    "\n",
    "with model:\n",
    "    fixed_variable = pm.Poisson('fxd', 1, observed=data)\n",
    "\n",
    "fixed_variable.tag.test_value"
   ]
  },
  {
   "cell_type": "markdown",
   "id": "154e0dcc-cd9f-426c-b21f-7872b2c8c9d5",
   "metadata": {},
   "source": [
    "- 데이터를 모델에 포함시키는 방법. 확률변수가 고정된 값을 갖도록 초기화 하는 것.\n",
    "- 따라서, 문자 메세지 예제를 완성시키려면 pymc3 변수 ovservations를 observed dataset으로 바로 잡아야 함."
   ]
  },
  {
   "cell_type": "code",
   "execution_count": 15,
   "id": "addd968c-e242-4445-8cb6-e1658fde2cc2",
   "metadata": {},
   "outputs": [
    {
     "name": "stdout",
     "output_type": "stream",
     "text": [
      "[10 25 15 20 35]\n"
     ]
    }
   ],
   "source": [
    "# fake data\n",
    "data = np.array([10, 25, 15, 20, 35])\n",
    "\n",
    "with model:\n",
    "    obs = pm.Poisson(\"obs\", lambda_, observed=data)\n",
    "    \n",
    "print(obs.tag.test_value)"
   ]
  }
 ],
 "metadata": {
  "kernelspec": {
   "display_name": "Python 3",
   "language": "python",
   "name": "python3"
  },
  "language_info": {
   "codemirror_mode": {
    "name": "ipython",
    "version": 3
   },
   "file_extension": ".py",
   "mimetype": "text/x-python",
   "name": "python",
   "nbconvert_exporter": "python",
   "pygments_lexer": "ipython3",
   "version": "3.8.8"
  }
 },
 "nbformat": 4,
 "nbformat_minor": 5
}
